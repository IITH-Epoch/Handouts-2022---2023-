{
 "cells": [
  {
   "cell_type": "code",
   "execution_count": null,
   "metadata": {},
   "outputs": [],
   "source": [
    "import numpy as np"
   ]
  },
  {
   "cell_type": "code",
   "execution_count": null,
   "metadata": {},
   "outputs": [],
   "source": [
    "# SVM soft margin classifier\n",
    "class SVM:\n",
    "    def __init__(self, C=1.0):\n",
    "        self.C = C\n",
    "        self.weights = None\n",
    "        self.bias = None\n",
    "\n",
    "    def train(self, X, y, learning_rate=0.01, num_epochs=1000):\n",
    "        num_samples, num_features = X.shape\n",
    "\n",
    "        # Initialize weights and bias\n",
    "        self.weights = np.zeros(num_features)\n",
    "        self.bias = 0\n",
    "\n",
    "        # Gradient descent training\n",
    "        for epoch in range(num_epochs):\n",
    "            # Compute margin and loss\n",
    "            margin = y * (np.dot(X, self.weights) + self.bias)\n",
    "            loss = 1 - margin\n",
    "\n",
    "            # Apply hinge loss function\n",
    "            loss = np.maximum(0, loss)\n",
    "\n",
    "            # Compute the gradient\n",
    "            dW = self.weights - self.C * np.dot(X.T, y * (loss > 0))\n",
    "            dB = -self.C * np.sum(y * (loss > 0))\n",
    "\n",
    "            # Update weights and bias\n",
    "            self.weights -= learning_rate * dW\n",
    "            self.bias -= learning_rate * dB\n",
    "\n",
    "    def predict(self, X):\n",
    "        # Predict class labels\n",
    "        y_pred = np.sign(np.dot(X, self.weights) + self.bias)\n",
    "        return y_pred.astype(int)"
   ]
  },
  {
   "cell_type": "code",
   "execution_count": null,
   "metadata": {},
   "outputs": [],
   "source": [
    "svm = SVM(C = 1)\n",
    "svm.fit(X_train, y_train)\n",
    "y_pred = svm.predict(X_test)"
   ]
  }
 ],
 "metadata": {
  "language_info": {
   "name": "python"
  },
  "orig_nbformat": 4
 },
 "nbformat": 4,
 "nbformat_minor": 2
}
